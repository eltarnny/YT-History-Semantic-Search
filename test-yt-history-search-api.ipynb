{
 "cells": [
  {
   "cell_type": "markdown",
   "metadata": {},
   "source": [
    "pip install gradio  "
   ]
  },
  {
   "cell_type": "code",
   "execution_count": 1,
   "metadata": {},
   "outputs": [],
   "source": [
    "import requests\n",
    "import json\n",
    "import gradio as gr"
   ]
  },
  {
   "cell_type": "code",
   "execution_count": 2,
   "metadata": {},
   "outputs": [],
   "source": [
    "url = 'http://127.0.0.1:8000/'\n",
    "query = 'RAG vector DB PDF'"
   ]
  },
  {
   "cell_type": "markdown",
   "metadata": {},
   "source": [
    "http://localhost:7860/  \n",
    "python test-yt-history-search-api.py"
   ]
  },
  {
   "cell_type": "code",
   "execution_count": null,
   "metadata": {},
   "outputs": [],
   "source": [
    "def search(query, limit):\n",
    "    if query == '':\n",
    "        query = 'RAG vector DB PDF'\n",
    "        \n",
    "    r_list = []\n",
    "    n_res = 15\n",
    "    n_elements = 4\n",
    "    out_list = [gr.HTML(visible=False) for _ in range(n_res*n_elements)]\n",
    "\n",
    "    params = {\n",
    "    'q': query,\n",
    "    'limit': limit\n",
    "    }\n",
    "    response = requests.get(url, params=params)\n",
    "    r_list = json.loads(response.text)\n",
    "\n",
    "    for i in range(len(r_list)):\n",
    "        title = r_list[i]['title']\n",
    "        titleUrl = r_list[i]['titleUrl']\n",
    "        paragraph = r_list[i]['paragraph']\n",
    "\n",
    "        w = 420\n",
    "        h = 300\n",
    "\n",
    "        v_embed = f'''<iframe width=\"{w}\" height=\"{h}\" \n",
    "        src=\"https://www.youtube.com/embed/{titleUrl.split('=')[-1]}\" \n",
    "        title=\"YouTube video player\" \n",
    "        frameborder=\"0\" allow=\"accelerometer; autoplay; \n",
    "        clipboard-write; encrypted-media; gyroscope; picture-in-picture; \n",
    "        web-share\" referrerpolicy=\"strict-origin-when-cross-origin\" allowfullscreen></iframe>'''\n",
    "\n",
    "        v_link = f'<a href=\"{titleUrl}\">{title}</a>'\n",
    "        paragraph = f'<p><span style=\"font-weight: bold;\">Transcript Excerpt: </span><br>{paragraph}</p>'\n",
    "\n",
    "        gr_v_link = gr.HTML(v_link, elem_classes='title', visible=True)\n",
    "        gr_v_embed = gr.HTML(v_embed, visible=True)\n",
    "        gr_paragraph = gr.HTML(paragraph, elem_classes='paragraph', visible=True)\n",
    "        line_sep = gr.HTML('<hr>', visible=True)\n",
    "\n",
    "        for j in range(n_elements):\n",
    "            out_list[i*n_elements:(i+1)*n_elements] = [gr_v_embed, gr_v_link, gr_paragraph, line_sep]\n",
    "\n",
    "    return out_list\n",
    "\n",
    "res_list = []\n",
    "css = '''\n",
    ".title {\n",
    "    font-size: 18px !important;\n",
    "}\n",
    ".paragraph {\n",
    "    font-size: 16px !important;\n",
    "}\n",
    "'''\n",
    "with gr.Blocks(css=css) as demo:\n",
    "    gr.Markdown(\"# YouTube History Search\")\n",
    "\n",
    "    with gr.Row():\n",
    "        qtext = gr.Textbox(placeholder=\"What are you looking for?\", label=\"Query\", scale=3)\n",
    "        lim = gr.Slider(minimum=1, maximum=15, value=5, step=1, label=\"Number of results\")\n",
    "        btn = gr.Button(\"Search\")\n",
    "        btn.click(fn=search, inputs=[qtext, lim], outputs=res_list)\n",
    "          \n",
    "    for i in range(15):\n",
    "        with gr.Row():\n",
    "            with gr.Column():\n",
    "                with gr.Row():\n",
    "                    res_list.append(gr.HTML(visible=False))\n",
    "                with gr.Row():\n",
    "                    res_list.append(gr.HTML(elem_classes='title', visible=False))\n",
    "            with gr.Column():\n",
    "                with gr.Row():\n",
    "                    res_list.append(gr.HTML(elem_classes='paragraph', visible=False))\n",
    "        with gr.Row():\n",
    "            res_list.append(gr.HTML('<hr>', visible=False))\n",
    "\n",
    "\n",
    "\n",
    "    qtext.submit(fn=search, inputs=[qtext, lim], outputs=res_list)\n",
    "\n",
    "demo.launch()"
   ]
  }
 ],
 "metadata": {
  "kernelspec": {
   "display_name": "RAG-YT-History",
   "language": "python",
   "name": "python3"
  },
  "language_info": {
   "codemirror_mode": {
    "name": "ipython",
    "version": 3
   },
   "file_extension": ".py",
   "mimetype": "text/x-python",
   "name": "python",
   "nbconvert_exporter": "python",
   "pygments_lexer": "ipython3",
   "version": "3.11.9"
  }
 },
 "nbformat": 4,
 "nbformat_minor": 2
}
